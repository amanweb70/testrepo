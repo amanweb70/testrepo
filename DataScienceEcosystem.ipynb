{
 "cells": [
  {
   "cell_type": "markdown",
   "id": "0b365dea-0014-42e6-a21f-650c215e6c9c",
   "metadata": {},
   "source": [
    "# Data Science Tools and Ecosystem"
   ]
  },
  {
   "cell_type": "markdown",
   "id": "23d7d13b-ab77-466d-9d8c-9e2d3fec1a71",
   "metadata": {},
   "source": [
    "In this notebook, Data Science Tools and Ecosystem are summarized."
   ]
  },
  {
   "cell_type": "markdown",
   "id": "a25023cf-8b76-4a2d-90d0-1f59ae407cdf",
   "metadata": {},
   "source": [
    "#### Objectives:\n",
    "\n",
    " * List popular languages for Data Science\n",
    " * List of commonly used libraries for Data science\n",
    " * Data science tools and environments\n",
    " * Examples of evaluating arithmetic expressions in Python\n",
    " \n",
    "\n"
   ]
  },
  {
   "cell_type": "markdown",
   "id": "97a03095-4ead-4bda-bc77-ca362b9998e3",
   "metadata": {},
   "source": [
    " Some of the popular languages that Data Scientists use are:\n",
    "    \n",
    "    1. Python\n",
    "    2. R\n",
    "    3. SQL\n",
    "    4. Java\n",
    "    5. Julia\n",
    "    6. Scala\n",
    "    7. Javascript\n",
    "    8. C++\n",
    "    "
   ]
  },
  {
   "cell_type": "markdown",
   "id": "6b7bac5d-d0f1-4655-816b-98d2057be826",
   "metadata": {},
   "source": [
    "Some of the commonly used libraries used by Data Scientists include:\n",
    "    \n",
    "    1. NumPy\n",
    "    2. SciPy\n",
    "    3. Pandas\n",
    "    4. Matplotlib\n",
    "    5. Sci-kit learn\n",
    "    6. keras\n",
    "    7. Caffe2\n",
    "    8. ggplot2"
   ]
  },
  {
   "cell_type": "markdown",
   "id": "459ad104-ae9a-493b-a3ee-00b493e65653",
   "metadata": {},
   "source": [
    "| Data Science Tools |\n",
    "| -------------------|\n",
    "| R Studio |\n",
    "| Jupyter Environments |\n",
    "| Apache Spark |\n",
    "| TensorFlow |\n",
    "| Hadoop |"
   ]
  },
  {
   "cell_type": "markdown",
   "id": "75e9fa42-b1cb-4ada-89c9-3959a247031c",
   "metadata": {},
   "source": [
    "### Below are a few examples of evaluating arithmetic expressions in Python\n",
    " \n",
    "    (20+5)*5\n",
    " \n",
    "    5%3\n",
    " \n",
    "    (5-3)+4"
   ]
  },
  {
   "cell_type": "code",
   "execution_count": 7,
   "id": "5b879ae1-8a83-4243-bb90-93227b55f4c4",
   "metadata": {},
   "outputs": [
    {
     "data": {
      "text/plain": [
       "17"
      ]
     },
     "execution_count": 7,
     "metadata": {},
     "output_type": "execute_result"
    }
   ],
   "source": [
    "# This a simple arithmetic expression to mutiply then add integers\n",
    "\n",
    "(3*4)+5"
   ]
  },
  {
   "cell_type": "code",
   "execution_count": 14,
   "id": "54dc733c-6558-4bb2-8847-6432bf5f1862",
   "metadata": {},
   "outputs": [
    {
     "name": "stdout",
     "output_type": "stream",
     "text": [
      "3.3333333333333335\n"
     ]
    }
   ],
   "source": [
    "# This will convert 200 minutes to hours by diving by 60\n",
    "\n",
    "hours = 200/60\n",
    "print(hours)\n"
   ]
  },
  {
   "cell_type": "markdown",
   "id": "9cab352f-3fc0-43f2-af2c-8ac884656ce1",
   "metadata": {},
   "source": [
    "## Author\n",
    "\n",
    "Amandeep Singh"
   ]
  },
  {
   "cell_type": "code",
   "execution_count": null,
   "id": "acc8baab-33e1-4aac-9885-d3f18d0bfe5d",
   "metadata": {},
   "outputs": [],
   "source": []
  }
 ],
 "metadata": {
  "kernelspec": {
   "display_name": "Python",
   "language": "python",
   "name": "conda-env-python-py"
  },
  "language_info": {
   "codemirror_mode": {
    "name": "ipython",
    "version": 3
   },
   "file_extension": ".py",
   "mimetype": "text/x-python",
   "name": "python",
   "nbconvert_exporter": "python",
   "pygments_lexer": "ipython3",
   "version": "3.7.12"
  }
 },
 "nbformat": 4,
 "nbformat_minor": 5
}
